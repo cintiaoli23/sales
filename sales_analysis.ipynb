
# Sales Analysis

This notebook contains a simple analysis of fictional sales data.

## Steps:
1. Import libraries
2. Load and inspect data
3. Analyze revenue by month
4. Find top-selling products and cities
5. Calculate average price by category
6. Visualize results

---

Let's get started!
