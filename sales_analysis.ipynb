{
 "cells": [
  {
   "cell_type": "markdown",
   "id": "70e72fa1",
   "metadata": {},
   "source": [
    "# Sales Analysis\n",
    "\n",
    "This notebook contains a simple analysis of fictional sales data.\n",
    "\n",
    "---"
   ]
  },
  {
   "cell_type": "code",
   "execution_count": null,
   "id": "03558509",
   "metadata": {},
   "outputs": [],
   "source": [
    "import pandas as pd\n",
    "import matplotlib.pyplot as plt\n",
    "import seaborn as sns\n",
    "\n",
    "sns.set(style=\"whitegrid\")"
   ]
  },
  {
   "cell_type": "code",
   "execution_count": null,
   "id": "7212660a",
   "metadata": {},
   "outputs": [],
   "source": [
    "df = pd.read_csv(\"../data/sales_data.csv\")\n",
    "df[\"Date\"] = pd.to_datetime(df[\"Date\"])\n",
    "df.head()"
   ]
  },
  {
   "cell_type": "markdown",
   "id": "6fb7079d",
   "metadata": {},
   "source": [
    "## Basic Exploration"
   ]
  },
  {
   "cell_type": "code",
   "execution_count": null,
   "id": "79f43bf5",
   "metadata": {},
   "outputs": [],
   "source": [
    "df.info()\n",
    "df.describe()\n",
    "df.isnull().sum()"
   ]
  },
  {
   "cell_type": "markdown",
   "id": "54e66908",
   "metadata": {},
   "source": [
    "## Total Revenue by Month"
   ]
  },
  {
   "cell_type": "code",
   "execution_count": null,
   "id": "bdd7d27c",
   "metadata": {},
   "outputs": [],
   "source": [
    "df[\"Month\"] = df[\"Date\"].dt.to_period(\"M\").astype(str)\n",
    "df[\"Revenue\"] = df[\"Price\"] * df[\"Quantity\"]\n",
    "\n",
    "monthly_revenue = df.groupby(\"Month\")[\"Revenue\"].sum().reset_index()\n",
    "\n",
    "plt.figure(figsize=(10,5))\n",
    "sns.lineplot(data=monthly_revenue, x=\"Month\", y=\"Revenue\", marker=\"o\")\n",
    "plt.title(\"Total Revenue by Month\")\n",
    "plt.xticks(rotation=45)\n",
    "plt.tight_layout()\n",
    "plt.show()"
   ]
  },
  {
   "cell_type": "markdown",
   "id": "3eb11dd3",
   "metadata": {},
   "source": [
    "## Top Cities by Revenue"
   ]
  },
  {
   "cell_type": "code",
   "execution_count": null,
   "id": "0e179d0b",
   "metadata": {},
   "outputs": [],
   "source": [
    "city_revenue = df.groupby(\"City\")[\"Revenue\"].sum().sort_values(ascending=False).reset_index()\n",
    "\n",
    "plt.figure(figsize=(8,4))\n",
    "sns.barplot(data=city_revenue, x=\"Revenue\", y=\"City\", palette=\"Blues_d\")\n",
    "plt.title(\"Top Cities by Revenue\")\n",
    "plt.tight_layout()\n",
    "plt.show()"
   ]
  },
  {
   "cell_type": "markdown",
   "id": "8f2bbc7d",
   "metadata": {},
   "source": [
    "## Best-Selling Products"
   ]
  },
  {
   "cell_type": "code",
   "execution_count": null,
   "id": "3e22db8b",
   "metadata": {},
   "outputs": [],
   "source": [
    "product_sales = df.groupby(\"Product\")[\"Quantity\"].sum().sort_values(ascending=False).reset_index()\n",
    "\n",
    "plt.figure(figsize=(8,5))\n",
    "sns.barplot(data=product_sales, x=\"Quantity\", y=\"Product\", palette=\"viridis\")\n",
    "plt.title(\"Best-Selling Products (by Quantity)\")\n",
    "plt.tight_layout()\n",
    "plt.show()"
   ]
  },
  {
   "cell_type": "markdown",
   "id": "77100c1f",
   "metadata": {},
   "source": [
    "## Average Price by Category"
   ]
  },
  {
   "cell_type": "code",
   "execution_count": null,
   "id": "4844da9b",
   "metadata": {},
   "outputs": [],
   "source": [
    "category_price = df.groupby(\"Category\")[\"Price\"].mean().sort_values().reset_index()\n",
    "\n",
    "plt.figure(figsize=(7,4))\n",
    "sns.barplot(data=category_price, x=\"Price\", y=\"Category\", palette=\"Set2\")\n",
    "plt.title(\"Average Product Price by Category\")\n",
    "plt.tight_layout()\n",
    "plt.show()"
   ]
  },
  {
   "cell_type": "markdown",
   "id": "e03ac78a",
   "metadata": {},
   "source": [
    "## Conclusion\n",
    "\n",
    "- This project explored basic sales data metrics using pandas and visualization libraries.\n",
    "- We identified top products, cities, and months by revenue.\n",
    "- This is a great beginner-friendly project to demonstrate analysis and Python skills."
   ]
  }
 ],
 "metadata": {},
 "nbformat": 4,
 "nbformat_minor": 5
}
